{
 "cells": [
  {
   "cell_type": "code",
   "execution_count": 4,
   "id": "29734f3a",
   "metadata": {},
   "outputs": [],
   "source": [
    "library(deSolve)# Load libary to be used for numerical integration\n",
    "library(ggplot2)"
   ]
  },
  {
   "cell_type": "code",
   "execution_count": 5,
   "id": "93311cba",
   "metadata": {},
   "outputs": [],
   "source": [
    "#Model parameters \n",
    "seirv_params <- list(\n",
    "  a = 50,\n",
    "  c = 30,\n",
    "  beta_AA = 2,\n",
    "  beta_AT = 2,\n",
    "  beta_TA = 2,\n",
    "  beta_TT = 2,\n",
    "  gamma = 1/4,#incubation rate \n",
    "  tau = 1/365,#loss imnity rate\n",
    "  delta = 1/10,#recovery rate\n",
    "  nu = 1/(0.4*365),#vaccination rate\n",
    "  #b = 1/(70*365),#birth rate\n",
    "  epsilon = 0.1#disease death rate \n",
    ")"
   ]
  },
  {
   "cell_type": "code",
   "execution_count": 6,
   "id": "461c2985",
   "metadata": {},
   "outputs": [],
   "source": [
    "# Initial state \n",
    "N0_A = 1000#\n",
    "N0_T = 1000#\n",
    "flu_zero <- c(S_A = N0_A-1, E_A = 0, I_A = 1, R_A = 0, V_A = 0,\n",
    "              S_T = N0_T-1, E_T = 0, I_T = 1, R_T = 0, V_T = 0)"
   ]
  },
  {
   "cell_type": "code",
   "execution_count": 12,
   "id": "762fbfd3",
   "metadata": {},
   "outputs": [],
   "source": [
    "# Define the control\n",
    "# I intectious\n",
    "# N pop size\n",
    "# x\n",
    "f.fn <- function(I, N, x, a = 50){\n",
    "  if (I<x){\n",
    "    ans <- 0.5\n",
    "  }\n",
    "  else{\n",
    "    ans <- exp(-a*I/N)\n",
    "  }\n",
    "}"
   ]
  },
  {
   "cell_type": "markdown",
   "id": "cf4afada",
   "metadata": {},
   "source": [
    "## Dual SEIRV model"
   ]
  },
  {
   "cell_type": "code",
   "execution_count": 8,
   "id": "80a9e009",
   "metadata": {},
   "outputs": [],
   "source": [
    "seirv <- function(t, y, parms){\n",
    "  with(c(as.list(y), parms), {\n",
    "    N_A <- S_A + E_A + I_A + R_A + V_A\n",
    "    N_T <- S_T + E_T + I_T + R_T + V_T\n",
    "    N <- N_A + N_T\n",
    "    I <- I_A + I_T\n",
    "    #background death rate\n",
    "    ##threshold\n",
    "    #Transmission coefficients\n",
    "    lambda_AA <- beta_AA * exp(-a*I/N) * I_A/N_A; \n",
    "    lambda_TA <- beta_TA * exp(-c*I/N) *I_T/N_T;\n",
    "    lambda_TT <- beta_TT*I_T/N_T; \n",
    "    lambda_AT <- beta_AT*exp(-c*I/N)*I_A/N_A;\n",
    "    #\n",
    "    # risk averse\n",
    "    dS_Adt <- - (nu + lambda_AA + lambda_TA)*S_A \n",
    "    dE_Adt <- (lambda_AA + lambda_TA) * S_A - gamma * E_A\n",
    "    dI_Adt <- gamma * E_A - (delta + epsilon) * I_A\n",
    "    dR_Adt <- delta * I_A\n",
    "    dV_Adt <- nu * S_A - tau * V_A\n",
    "    \n",
    "    #risk tolerant\n",
    "    dS_Tdt <- - ( + nu + lambda_TT + lambda_AT)*S_T\n",
    "    dE_Tdt <- (lambda_TT + lambda_AT) * S_T - gamma * E_T\n",
    "    dI_Tdt <- gamma * E_T - (delta + epsilon) * I_T\n",
    "    dR_Tdt <- delta * I_T\n",
    "    dV_Tdt <- nu * S_T - tau * V_T\n",
    "    # return a list \n",
    "    return(list(c(dS_Adt, dE_Adt, dI_Adt, dR_Adt, dV_Adt, dS_Tdt, dE_Tdt, dI_Tdt, dR_Tdt, dV_Tdt)))\n",
    "  })\n",
    "}"
   ]
  },
  {
   "cell_type": "markdown",
   "id": "7f892082",
   "metadata": {},
   "source": [
    "## Dual SEIRV model with control"
   ]
  },
  {
   "cell_type": "code",
   "execution_count": 14,
   "id": "e9e89aa3",
   "metadata": {},
   "outputs": [],
   "source": [
    "seirv_interv <- function(t, y, parms){\n",
    "  with(c(as.list(y), parms), {\n",
    "    N_A <- S_A + E_A + I_A + R_A + V_A\n",
    "    N_T <- S_T + E_T + I_T + R_T + V_T\n",
    "    N <- N_A + N_T\n",
    "    I <- I_A + I_T\n",
    "    #background death rate\n",
    "    ##threshold\n",
    "    x0 = N*log(2)/50#Risk averse\n",
    "    y0 = N*log(2)/30#Risk tolerant\n",
    "    t_inter = 10\n",
    "    #Transmission coefficients\n",
    "    if (t < t_inter){\n",
    "        lambda_AA <- beta_AA * exp(-a*I/N) * I_A/N_A; \n",
    "        lambda_TA <- beta_TA * exp(-c*I/N) *I_T/N_T;\n",
    "        lambda_TT <- beta_TT*I_T/N_T; \n",
    "        lambda_AT <- beta_AT*exp(-c*I/N)*I_A/N_A;\n",
    "    }\n",
    "    else{\n",
    "        lambda_AA <- beta_AA * f.fn(I,N, x0, 50)* I_A/N_A; \n",
    "        lambda_TA <- beta_TA * f.fn(I,N, x0, 30)*I_T/N_T;\n",
    "        lambda_TT <- beta_TT*I_T/N_T * 0.5 ; \n",
    "        lambda_AT <- beta_AT* f.fn(I,N, x0, 30)*I_A/N_A;\n",
    "    }      \n",
    "    #\n",
    "    # risk averse\n",
    "    dS_Adt <- - (nu + lambda_AA + lambda_TA)*S_A \n",
    "    dE_Adt <- (lambda_AA + lambda_TA) * S_A - gamma * E_A\n",
    "    dI_Adt <- gamma * E_A - (delta + epsilon) * I_A\n",
    "    dR_Adt <- delta * I_A\n",
    "    dV_Adt <- nu * S_A - tau * V_A\n",
    "    \n",
    "    #risk tolerant\n",
    "    dS_Tdt <- - ( + nu + lambda_TT + lambda_AT)*S_T\n",
    "    dE_Tdt <- (lambda_TT + lambda_AT) * S_T - gamma * E_T\n",
    "    dI_Tdt <- gamma * E_T - (delta + epsilon) * I_T\n",
    "    dR_Tdt <- delta * I_T\n",
    "    dV_Tdt <- nu * S_T - tau * V_T\n",
    "    # return a list \n",
    "    return(list(c(dS_Adt, dE_Adt, dI_Adt, dR_Adt, dV_Adt, dS_Tdt, dE_Tdt, dI_Tdt, dR_Tdt, dV_Tdt)))\n",
    "  })\n",
    "}"
   ]
  },
  {
   "cell_type": "markdown",
   "id": "c89b39eb",
   "metadata": {},
   "source": [
    "## Integration"
   ]
  },
  {
   "cell_type": "code",
   "execution_count": 10,
   "id": "d4050526",
   "metadata": {},
   "outputs": [],
   "source": [
    "## This function compute the ODEs' solution\n",
    "simEpidemic <- function(initial_state, timestep, model, params){\n",
    "  ## Integration with\n",
    "  ts <- data.frame(lsoda(\n",
    "    y = initial_state,# Initial conditions for population\n",
    "    times = timestep, # Timepoints for evaluation\n",
    "    func = model,# Function to evaluate\n",
    "    parms = params# Vector of parameters\n",
    "  ))\n",
    "  N = \n",
    "    ts$P <- with(ts, (I_A+I_T)/(N0_A+N0_T))\n",
    "  # ts$P_T <- with(ts, I_T/N0_T)\n",
    "  return(ts)\n",
    "}"
   ]
  },
  {
   "cell_type": "code",
   "execution_count": 15,
   "id": "dc6cabdb",
   "metadata": {},
   "outputs": [],
   "source": [
    "# Simulation\n",
    "## Set the time\n",
    "num_years <- 0.5\n",
    "time.out <- seq(0, num_years*365, by=1)\n",
    "\n",
    "ts_seirv_before_inter <- simEpidemic(flu_zero, time.out, seirv, seirv_params)\n",
    "\n",
    "ts_seirv_inter <- simEpidemic(flu_zero, time.out, seirv_interv, seirv_params)"
   ]
  },
  {
   "cell_type": "code",
   "execution_count": 16,
   "id": "95bf6f10",
   "metadata": {},
   "outputs": [
    {
     "data": {
      "image/png": "[encoded data removed]",
      "text/plain": [
       "Plot with title “Influenza”"
      ]
     },
     "metadata": {
      "image/png": {
       "height": 420,
       "width": 420
      }
     },
     "output_type": "display_data"
    }
   ],
   "source": [
    "# Plotting ---------------------------------------------------------------------\n",
    "\n",
    "#### Infected-----------------------------------------------\n",
    "max_y <- max(c(max(ts_seirv_inter$P), max(ts_seirv_before_inter$P)))\n",
    "plot(ts_seirv_inter$time,               # Time on the x axis\n",
    "     ts_seirv_inter$P,                  # Number infected (I) on the y axis\n",
    "     xlab = \"Time (days)\",     # Label the x axis\n",
    "     ylab = \"Prevalence\",  # Label the y axis\n",
    "     main = \"Influenza\",    # Plot title\n",
    "     xlim = c(0, max(ts_seirv_inter$time)),           #\n",
    "     ylim = c(0, 0.6),\n",
    "     col=\"red\",\n",
    "     type = \"l\",                # Use a line plot\n",
    "     bty = \"n\")                 # Remove the box around the plot\n",
    "# Z <- rep(0.5, length(ts_seirv$tim))\n",
    "lines(ts_seirv_inter$time, ts_seirv_before_inter$P, col=\"blue\")\n",
    "# legend(\"topright\", legend = c(\"After interv\", \"Before interv\"), col = c(\"red\", \"blue\"), lwd = 2)\n"
   ]
  }
 ],
 "metadata": {
  "kernelspec": {
   "display_name": "R",
   "language": "R",
   "name": "ir"
  },
  "language_info": {
   "codemirror_mode": "r",
   "file_extension": ".r",
   "mimetype": "text/x-r-source",
   "name": "R",
   "pygments_lexer": "r",
   "version": "4.4.1"
  }
 },
 "nbformat": 4,
 "nbformat_minor": 5
}
